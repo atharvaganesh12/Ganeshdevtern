{
 "cells": [
  {
   "cell_type": "markdown",
   "id": "139c62b9-b3da-409f-a011-a578c7fed1c6",
   "metadata": {},
   "source": [
    "# Data Science Task -01\n",
    "# Detecting Fake News"
   ]
  },
  {
   "cell_type": "markdown",
   "id": "79b54f49-8333-4b36-9e9a-46e2520a1932",
   "metadata": {},
   "source": [
    "## Objective:\n",
    "## Differentiate between real and fake news using a Python project applying a PassiveAggressiveClassifier."
   ]
  },
  {
   "cell_type": "markdown",
   "id": "d91d3454-de83-4ccc-bc85-6da949a74fae",
   "metadata": {},
   "source": [
    "## Data Reading:news is Real or Fake"
   ]
  },
  {
   "cell_type": "markdown",
   "id": "90a505c7-51bb-465c-bcfa-db78782c887c",
   "metadata": {},
   "source": [
    "\n",
    "#### Here only 100 dataset mention"
   ]
  },
  {
   "cell_type": "code",
   "execution_count": 35,
   "id": "b88b2b66-e4a2-4ed6-b70f-922e34f6a708",
   "metadata": {},
   "outputs": [
    {
     "data": {
      "text/html": [
       "<div>\n",
       "<style scoped>\n",
       "    .dataframe tbody tr th:only-of-type {\n",
       "        vertical-align: middle;\n",
       "    }\n",
       "\n",
       "    .dataframe tbody tr th {\n",
       "        vertical-align: top;\n",
       "    }\n",
       "\n",
       "    .dataframe thead th {\n",
       "        text-align: right;\n",
       "    }\n",
       "</style>\n",
       "<table border=\"1\" class=\"dataframe\">\n",
       "  <thead>\n",
       "    <tr style=\"text-align: right;\">\n",
       "      <th></th>\n",
       "      <th>Unnamed: 0</th>\n",
       "      <th>title</th>\n",
       "      <th>text</th>\n",
       "      <th>label</th>\n",
       "    </tr>\n",
       "  </thead>\n",
       "  <tbody>\n",
       "    <tr>\n",
       "      <th>0</th>\n",
       "      <td>8476</td>\n",
       "      <td>You Can Smell Hillary’s Fear</td>\n",
       "      <td>Daniel Greenfield, a Shillman Journalism Fello...</td>\n",
       "      <td>FAKE</td>\n",
       "    </tr>\n",
       "    <tr>\n",
       "      <th>1</th>\n",
       "      <td>10294</td>\n",
       "      <td>Watch The Exact Moment Paul Ryan Committed Pol...</td>\n",
       "      <td>Google Pinterest Digg Linkedin Reddit Stumbleu...</td>\n",
       "      <td>FAKE</td>\n",
       "    </tr>\n",
       "    <tr>\n",
       "      <th>2</th>\n",
       "      <td>3608</td>\n",
       "      <td>Kerry to go to Paris in gesture of sympathy</td>\n",
       "      <td>U.S. Secretary of State John F. Kerry said Mon...</td>\n",
       "      <td>REAL</td>\n",
       "    </tr>\n",
       "    <tr>\n",
       "      <th>3</th>\n",
       "      <td>10142</td>\n",
       "      <td>Bernie supporters on Twitter erupt in anger ag...</td>\n",
       "      <td>— Kaydee King (@KaydeeKing) November 9, 2016 T...</td>\n",
       "      <td>FAKE</td>\n",
       "    </tr>\n",
       "    <tr>\n",
       "      <th>4</th>\n",
       "      <td>875</td>\n",
       "      <td>The Battle of New York: Why This Primary Matters</td>\n",
       "      <td>It's primary day in New York and front-runners...</td>\n",
       "      <td>REAL</td>\n",
       "    </tr>\n",
       "    <tr>\n",
       "      <th>...</th>\n",
       "      <td>...</td>\n",
       "      <td>...</td>\n",
       "      <td>...</td>\n",
       "      <td>...</td>\n",
       "    </tr>\n",
       "    <tr>\n",
       "      <th>95</th>\n",
       "      <td>8290</td>\n",
       "      <td>The Mandela Effect was made by one overlooked ...</td>\n",
       "      <td>link There is simply no more denying, for mill...</td>\n",
       "      <td>FAKE</td>\n",
       "    </tr>\n",
       "    <tr>\n",
       "      <th>96</th>\n",
       "      <td>6227</td>\n",
       "      <td>CNN: One voter can make a difference by voting...</td>\n",
       "      <td>Channel list \\nFollowing hurricane Matthew's f...</td>\n",
       "      <td>FAKE</td>\n",
       "    </tr>\n",
       "    <tr>\n",
       "      <th>97</th>\n",
       "      <td>3255</td>\n",
       "      <td>Give Social Security recipients a CEO-style raise</td>\n",
       "      <td>(CNN) On Veterans Day we recognize and honor t...</td>\n",
       "      <td>REAL</td>\n",
       "    </tr>\n",
       "    <tr>\n",
       "      <th>98</th>\n",
       "      <td>3177</td>\n",
       "      <td>Fireworks erupt between Trump and Bush, Rubio ...</td>\n",
       "      <td>Sparks flew at the toughest and liveliest GOP ...</td>\n",
       "      <td>REAL</td>\n",
       "    </tr>\n",
       "    <tr>\n",
       "      <th>99</th>\n",
       "      <td>2832</td>\n",
       "      <td>Obama, sounding like his critics, admits no 'c...</td>\n",
       "      <td>The online comment fits closely with his campa...</td>\n",
       "      <td>REAL</td>\n",
       "    </tr>\n",
       "  </tbody>\n",
       "</table>\n",
       "<p>100 rows × 4 columns</p>\n",
       "</div>"
      ],
      "text/plain": [
       "    Unnamed: 0                                              title  \\\n",
       "0         8476                       You Can Smell Hillary’s Fear   \n",
       "1        10294  Watch The Exact Moment Paul Ryan Committed Pol...   \n",
       "2         3608        Kerry to go to Paris in gesture of sympathy   \n",
       "3        10142  Bernie supporters on Twitter erupt in anger ag...   \n",
       "4          875   The Battle of New York: Why This Primary Matters   \n",
       "..         ...                                                ...   \n",
       "95        8290  The Mandela Effect was made by one overlooked ...   \n",
       "96        6227  CNN: One voter can make a difference by voting...   \n",
       "97        3255  Give Social Security recipients a CEO-style raise   \n",
       "98        3177  Fireworks erupt between Trump and Bush, Rubio ...   \n",
       "99        2832  Obama, sounding like his critics, admits no 'c...   \n",
       "\n",
       "                                                 text label  \n",
       "0   Daniel Greenfield, a Shillman Journalism Fello...  FAKE  \n",
       "1   Google Pinterest Digg Linkedin Reddit Stumbleu...  FAKE  \n",
       "2   U.S. Secretary of State John F. Kerry said Mon...  REAL  \n",
       "3   — Kaydee King (@KaydeeKing) November 9, 2016 T...  FAKE  \n",
       "4   It's primary day in New York and front-runners...  REAL  \n",
       "..                                                ...   ...  \n",
       "95  link There is simply no more denying, for mill...  FAKE  \n",
       "96  Channel list \\nFollowing hurricane Matthew's f...  FAKE  \n",
       "97  (CNN) On Veterans Day we recognize and honor t...  REAL  \n",
       "98  Sparks flew at the toughest and liveliest GOP ...  REAL  \n",
       "99  The online comment fits closely with his campa...  REAL  \n",
       "\n",
       "[100 rows x 4 columns]"
      ]
     },
     "execution_count": 35,
     "metadata": {},
     "output_type": "execute_result"
    }
   ],
   "source": [
    "\n",
    "news_data= pd.read_csv(\"news.csv\")\n",
    "news_data.head(100)"
   ]
  },
  {
   "cell_type": "markdown",
   "id": "c062ef5b-c8e4-4721-a99d-77fef021c326",
   "metadata": {},
   "source": [
    "### Now import the all essential python library"
   ]
  },
  {
   "cell_type": "code",
   "execution_count": 36,
   "id": "64aeb418-7586-4428-88f2-fc35dd0516e7",
   "metadata": {},
   "outputs": [],
   "source": [
    "import pandas as pd\n",
    "import numpy as np\n",
    "from sklearn.feature_extraction.text import TfidfVectorizer\n",
    "from sklearn.model_selection import train_test_split\n",
    "from sklearn.linear_model import PassiveAggressiveClassifier\n",
    "from sklearn.metrics import accuracy_score, confusion_matrix, classification_report\n",
    "import itertools\n",
    "import seaborn as sns\n",
    "import matplotlib.pyplot as plt"
   ]
  },
  {
   "cell_type": "markdown",
   "id": "8dc59de9-68f6-41e5-b423-0915beb39817",
   "metadata": {},
   "source": [
    "### Here we are finding only 20 data to easly understood "
   ]
  },
  {
   "cell_type": "code",
   "execution_count": 37,
   "id": "47115ad5-a11f-412c-b662-b2866e2c039a",
   "metadata": {},
   "outputs": [
    {
     "data": {
      "text/html": [
       "<div>\n",
       "<style scoped>\n",
       "    .dataframe tbody tr th:only-of-type {\n",
       "        vertical-align: middle;\n",
       "    }\n",
       "\n",
       "    .dataframe tbody tr th {\n",
       "        vertical-align: top;\n",
       "    }\n",
       "\n",
       "    .dataframe thead th {\n",
       "        text-align: right;\n",
       "    }\n",
       "</style>\n",
       "<table border=\"1\" class=\"dataframe\">\n",
       "  <thead>\n",
       "    <tr style=\"text-align: right;\">\n",
       "      <th></th>\n",
       "      <th>Unnamed: 0</th>\n",
       "      <th>title</th>\n",
       "      <th>text</th>\n",
       "      <th>label</th>\n",
       "    </tr>\n",
       "  </thead>\n",
       "  <tbody>\n",
       "    <tr>\n",
       "      <th>0</th>\n",
       "      <td>8476</td>\n",
       "      <td>You Can Smell Hillary’s Fear</td>\n",
       "      <td>Daniel Greenfield, a Shillman Journalism Fello...</td>\n",
       "      <td>FAKE</td>\n",
       "    </tr>\n",
       "    <tr>\n",
       "      <th>1</th>\n",
       "      <td>10294</td>\n",
       "      <td>Watch The Exact Moment Paul Ryan Committed Pol...</td>\n",
       "      <td>Google Pinterest Digg Linkedin Reddit Stumbleu...</td>\n",
       "      <td>FAKE</td>\n",
       "    </tr>\n",
       "    <tr>\n",
       "      <th>2</th>\n",
       "      <td>3608</td>\n",
       "      <td>Kerry to go to Paris in gesture of sympathy</td>\n",
       "      <td>U.S. Secretary of State John F. Kerry said Mon...</td>\n",
       "      <td>REAL</td>\n",
       "    </tr>\n",
       "    <tr>\n",
       "      <th>3</th>\n",
       "      <td>10142</td>\n",
       "      <td>Bernie supporters on Twitter erupt in anger ag...</td>\n",
       "      <td>— Kaydee King (@KaydeeKing) November 9, 2016 T...</td>\n",
       "      <td>FAKE</td>\n",
       "    </tr>\n",
       "    <tr>\n",
       "      <th>4</th>\n",
       "      <td>875</td>\n",
       "      <td>The Battle of New York: Why This Primary Matters</td>\n",
       "      <td>It's primary day in New York and front-runners...</td>\n",
       "      <td>REAL</td>\n",
       "    </tr>\n",
       "    <tr>\n",
       "      <th>5</th>\n",
       "      <td>6903</td>\n",
       "      <td>Tehran, USA</td>\n",
       "      <td>\\nI’m not an immigrant, but my grandparents ...</td>\n",
       "      <td>FAKE</td>\n",
       "    </tr>\n",
       "    <tr>\n",
       "      <th>6</th>\n",
       "      <td>7341</td>\n",
       "      <td>Girl Horrified At What She Watches Boyfriend D...</td>\n",
       "      <td>Share This Baylee Luciani (left), Screenshot o...</td>\n",
       "      <td>FAKE</td>\n",
       "    </tr>\n",
       "    <tr>\n",
       "      <th>7</th>\n",
       "      <td>95</td>\n",
       "      <td>‘Britain’s Schindler’ Dies at 106</td>\n",
       "      <td>A Czech stockbroker who saved more than 650 Je...</td>\n",
       "      <td>REAL</td>\n",
       "    </tr>\n",
       "    <tr>\n",
       "      <th>8</th>\n",
       "      <td>4869</td>\n",
       "      <td>Fact check: Trump and Clinton at the 'commande...</td>\n",
       "      <td>Hillary Clinton and Donald Trump made some ina...</td>\n",
       "      <td>REAL</td>\n",
       "    </tr>\n",
       "    <tr>\n",
       "      <th>9</th>\n",
       "      <td>2909</td>\n",
       "      <td>Iran reportedly makes new push for uranium con...</td>\n",
       "      <td>Iranian negotiators reportedly have made a las...</td>\n",
       "      <td>REAL</td>\n",
       "    </tr>\n",
       "    <tr>\n",
       "      <th>10</th>\n",
       "      <td>1357</td>\n",
       "      <td>With all three Clintons in Iowa, a glimpse at ...</td>\n",
       "      <td>CEDAR RAPIDS, Iowa — “I had one of the most wo...</td>\n",
       "      <td>REAL</td>\n",
       "    </tr>\n",
       "    <tr>\n",
       "      <th>11</th>\n",
       "      <td>988</td>\n",
       "      <td>Donald Trump’s Shockingly Weak Delegate Game S...</td>\n",
       "      <td>Donald Trump’s organizational problems have go...</td>\n",
       "      <td>REAL</td>\n",
       "    </tr>\n",
       "    <tr>\n",
       "      <th>12</th>\n",
       "      <td>7041</td>\n",
       "      <td>Strong Solar Storm, Tech Risks Today | S0 News...</td>\n",
       "      <td>Click Here To Learn More About Alexandra's Per...</td>\n",
       "      <td>FAKE</td>\n",
       "    </tr>\n",
       "    <tr>\n",
       "      <th>13</th>\n",
       "      <td>7623</td>\n",
       "      <td>10 Ways America Is Preparing for World War 3</td>\n",
       "      <td>October 31, 2016 at 4:52 am \\nPretty factual e...</td>\n",
       "      <td>FAKE</td>\n",
       "    </tr>\n",
       "    <tr>\n",
       "      <th>14</th>\n",
       "      <td>1571</td>\n",
       "      <td>Trump takes on Cruz, but lightly</td>\n",
       "      <td>Killing Obama administration rules, dismantlin...</td>\n",
       "      <td>REAL</td>\n",
       "    </tr>\n",
       "    <tr>\n",
       "      <th>15</th>\n",
       "      <td>4739</td>\n",
       "      <td>How women lead differently</td>\n",
       "      <td>As more women move into high offices, they oft...</td>\n",
       "      <td>REAL</td>\n",
       "    </tr>\n",
       "    <tr>\n",
       "      <th>16</th>\n",
       "      <td>7737</td>\n",
       "      <td>Shocking! Michele Obama &amp; Hillary Caught Glamo...</td>\n",
       "      <td>Shocking! Michele Obama &amp; Hillary Caught Glamo...</td>\n",
       "      <td>FAKE</td>\n",
       "    </tr>\n",
       "    <tr>\n",
       "      <th>17</th>\n",
       "      <td>8716</td>\n",
       "      <td>Hillary Clinton in HUGE Trouble After America ...</td>\n",
       "      <td>0 \\nHillary Clinton has barely just lost the p...</td>\n",
       "      <td>FAKE</td>\n",
       "    </tr>\n",
       "    <tr>\n",
       "      <th>18</th>\n",
       "      <td>3304</td>\n",
       "      <td>What's in that Iran bill that Obama doesn't like?</td>\n",
       "      <td>Washington (CNN) For months, the White House a...</td>\n",
       "      <td>REAL</td>\n",
       "    </tr>\n",
       "    <tr>\n",
       "      <th>19</th>\n",
       "      <td>3078</td>\n",
       "      <td>The 1 chart that explains everything you need ...</td>\n",
       "      <td>While paging through Pew's best data visualiza...</td>\n",
       "      <td>REAL</td>\n",
       "    </tr>\n",
       "  </tbody>\n",
       "</table>\n",
       "</div>"
      ],
      "text/plain": [
       "    Unnamed: 0                                              title  \\\n",
       "0         8476                       You Can Smell Hillary’s Fear   \n",
       "1        10294  Watch The Exact Moment Paul Ryan Committed Pol...   \n",
       "2         3608        Kerry to go to Paris in gesture of sympathy   \n",
       "3        10142  Bernie supporters on Twitter erupt in anger ag...   \n",
       "4          875   The Battle of New York: Why This Primary Matters   \n",
       "5         6903                                        Tehran, USA   \n",
       "6         7341  Girl Horrified At What She Watches Boyfriend D...   \n",
       "7           95                  ‘Britain’s Schindler’ Dies at 106   \n",
       "8         4869  Fact check: Trump and Clinton at the 'commande...   \n",
       "9         2909  Iran reportedly makes new push for uranium con...   \n",
       "10        1357  With all three Clintons in Iowa, a glimpse at ...   \n",
       "11         988  Donald Trump’s Shockingly Weak Delegate Game S...   \n",
       "12        7041  Strong Solar Storm, Tech Risks Today | S0 News...   \n",
       "13        7623       10 Ways America Is Preparing for World War 3   \n",
       "14        1571                   Trump takes on Cruz, but lightly   \n",
       "15        4739                         How women lead differently   \n",
       "16        7737  Shocking! Michele Obama & Hillary Caught Glamo...   \n",
       "17        8716  Hillary Clinton in HUGE Trouble After America ...   \n",
       "18        3304  What's in that Iran bill that Obama doesn't like?   \n",
       "19        3078  The 1 chart that explains everything you need ...   \n",
       "\n",
       "                                                 text label  \n",
       "0   Daniel Greenfield, a Shillman Journalism Fello...  FAKE  \n",
       "1   Google Pinterest Digg Linkedin Reddit Stumbleu...  FAKE  \n",
       "2   U.S. Secretary of State John F. Kerry said Mon...  REAL  \n",
       "3   — Kaydee King (@KaydeeKing) November 9, 2016 T...  FAKE  \n",
       "4   It's primary day in New York and front-runners...  REAL  \n",
       "5     \\nI’m not an immigrant, but my grandparents ...  FAKE  \n",
       "6   Share This Baylee Luciani (left), Screenshot o...  FAKE  \n",
       "7   A Czech stockbroker who saved more than 650 Je...  REAL  \n",
       "8   Hillary Clinton and Donald Trump made some ina...  REAL  \n",
       "9   Iranian negotiators reportedly have made a las...  REAL  \n",
       "10  CEDAR RAPIDS, Iowa — “I had one of the most wo...  REAL  \n",
       "11  Donald Trump’s organizational problems have go...  REAL  \n",
       "12  Click Here To Learn More About Alexandra's Per...  FAKE  \n",
       "13  October 31, 2016 at 4:52 am \\nPretty factual e...  FAKE  \n",
       "14  Killing Obama administration rules, dismantlin...  REAL  \n",
       "15  As more women move into high offices, they oft...  REAL  \n",
       "16  Shocking! Michele Obama & Hillary Caught Glamo...  FAKE  \n",
       "17  0 \\nHillary Clinton has barely just lost the p...  FAKE  \n",
       "18  Washington (CNN) For months, the White House a...  REAL  \n",
       "19  While paging through Pew's best data visualiza...  REAL  "
      ]
     },
     "execution_count": 37,
     "metadata": {},
     "output_type": "execute_result"
    }
   ],
   "source": [
    "news_data= pd.read_csv(\"news.csv\")\n",
    "news_data.head(20)"
   ]
  },
  {
   "cell_type": "markdown",
   "id": "93738806-156d-4ce5-9a8a-f0276ccd6e3f",
   "metadata": {},
   "source": [
    "### Find The information of news"
   ]
  },
  {
   "cell_type": "code",
   "execution_count": 38,
   "id": "67e678ad-bc0a-49a3-a630-96c7e8c19d1e",
   "metadata": {},
   "outputs": [
    {
     "name": "stdout",
     "output_type": "stream",
     "text": [
      "<class 'pandas.core.frame.DataFrame'>\n",
      "RangeIndex: 225 entries, 0 to 224\n",
      "Data columns (total 4 columns):\n",
      " #   Column      Non-Null Count  Dtype \n",
      "---  ------      --------------  ----- \n",
      " 0   Unnamed: 0  225 non-null    int64 \n",
      " 1   title       225 non-null    object\n",
      " 2   text        225 non-null    object\n",
      " 3   label       224 non-null    object\n",
      "dtypes: int64(1), object(3)\n",
      "memory usage: 7.2+ KB\n"
     ]
    }
   ],
   "source": [
    "news_data.info()"
   ]
  },
  {
   "cell_type": "markdown",
   "id": "506c8927-f9b1-4a27-8ae9-c88f92af5a24",
   "metadata": {},
   "source": [
    "### shape of news"
   ]
  },
  {
   "cell_type": "code",
   "execution_count": 39,
   "id": "1b490545-696e-4d0b-a610-adda180d8a4b",
   "metadata": {},
   "outputs": [
    {
     "data": {
      "text/plain": [
       "(225, 4)"
      ]
     },
     "execution_count": 39,
     "metadata": {},
     "output_type": "execute_result"
    }
   ],
   "source": [
    "news_data.shape"
   ]
  },
  {
   "cell_type": "markdown",
   "id": "cc142e3e-9faa-4a27-9947-b0d19a7f86ee",
   "metadata": {},
   "source": [
    "## Label of News out of 225"
   ]
  },
  {
   "cell_type": "code",
   "execution_count": 29,
   "id": "9d50ebf1-3520-4ffa-94cc-db04d3995013",
   "metadata": {},
   "outputs": [
    {
     "data": {
      "text/plain": [
       "label\n",
       "REAL    115\n",
       "FAKE    109\n",
       "Name: count, dtype: int64"
      ]
     },
     "execution_count": 29,
     "metadata": {},
     "output_type": "execute_result"
    }
   ],
   "source": [
    "news_data[\"label\"].value_counts()"
   ]
  },
  {
   "cell_type": "markdown",
   "id": "bd060370-cec8-4850-833c-dfab1a86b177",
   "metadata": {},
   "source": [
    "## 20 dataset "
   ]
  },
  {
   "cell_type": "code",
   "execution_count": 30,
   "id": "475537df-cf93-4fe1-b279-f8eefcbc4d4e",
   "metadata": {},
   "outputs": [
    {
     "data": {
      "text/plain": [
       "0     FAKE\n",
       "1     FAKE\n",
       "2     REAL\n",
       "3     FAKE\n",
       "4     REAL\n",
       "5     FAKE\n",
       "6     FAKE\n",
       "7     REAL\n",
       "8     REAL\n",
       "9     REAL\n",
       "10    REAL\n",
       "11    REAL\n",
       "12    FAKE\n",
       "13    FAKE\n",
       "14    REAL\n",
       "15    REAL\n",
       "16    FAKE\n",
       "17    FAKE\n",
       "18    REAL\n",
       "19    REAL\n",
       "Name: label, dtype: object"
      ]
     },
     "execution_count": 30,
     "metadata": {},
     "output_type": "execute_result"
    }
   ],
   "source": [
    "labels= news_data.label\n",
    "labels.head(20)"
   ]
  },
  {
   "cell_type": "markdown",
   "id": "52541238-f647-4bbc-a536-7cfe2f70399d",
   "metadata": {},
   "source": [
    "### First, we split the dataset into train & test samples:\n"
   ]
  },
  {
   "cell_type": "code",
   "execution_count": 17,
   "id": "e3c3467d-c2a5-4cdc-add9-b55c49b83a2f",
   "metadata": {},
   "outputs": [
    {
     "name": "stdout",
     "output_type": "stream",
     "text": [
      "x_train shape: (135,)\n",
      "x_test shape: (90,)\n",
      "y_train shape: (135,)\n",
      "y_test shape: (90,)\n"
     ]
    }
   ],
   "source": [
    "\n",
    "labels = news_data.label\n",
    "\n",
    "# Split the dataset into training and testing samples\n",
    "x_train, x_test, y_train, y_test = train_test_split(news_data[\"text\"], labels, test_size=0.4, random_state=7)\n",
    "\n",
    "# Print the shapes of the resulting splits to verify\n",
    "print(f'x_train shape: {x_train.shape}')\n",
    "print(f'x_test shape: {x_test.shape}')\n",
    "print(f'y_train shape: {y_train.shape}')\n",
    "print(f'y_test shape: {y_test.shape}')\n"
   ]
  },
  {
   "cell_type": "markdown",
   "id": "4d86d49f-ce7d-4e97-acfb-8b60b9c1362c",
   "metadata": {},
   "source": [
    "##  TfidfVectorizer shape "
   ]
  },
  {
   "cell_type": "code",
   "execution_count": 18,
   "id": "28e6564a-3243-406c-9011-b6887137a762",
   "metadata": {},
   "outputs": [
    {
     "name": "stdout",
     "output_type": "stream",
     "text": [
      "tfidf_train shape: (135, 10657)\n",
      "tfidf_test shape: (90, 10657)\n"
     ]
    }
   ],
   "source": [
    "from sklearn.feature_extraction.text import TfidfVectorizer\n",
    "\n",
    "# Assuming my dataset is in a DataFrame named news_data\n",
    "\n",
    "# Here is the part where we assume your data structure is similar to the provided labels\n",
    "labels = news_data.label\n",
    "\n",
    "# Split the dataset into training and testing samples\n",
    "x_train, x_test, y_train, y_test = train_test_split(news_data[\"text\"], labels, test_size=0.4, random_state=7)\n",
    "\n",
    "# Initialize TfidfVectorizer with English stop words\n",
    "vectorizer = TfidfVectorizer(stop_words='english', max_df=0.7)\n",
    "\n",
    "# Fit and transform the training data, and transform the test data\n",
    "tfidf_train = vectorizer.fit_transform(x_train)\n",
    "tfidf_test = vectorizer.transform(x_test)\n",
    "\n",
    "# Print shapes of the resulting TF-IDF matrices to verify\n",
    "print(f'tfidf_train shape: {tfidf_train.shape}')\n",
    "print(f'tfidf_test shape: {tfidf_test.shape}')"
   ]
  },
  {
   "cell_type": "markdown",
   "id": "05348c2b-349c-4f93-bd4c-e120b0437340",
   "metadata": {},
   "source": [
    "## PassiveAggressiveClassifier,acuuracy Score and Confusion Matrix"
   ]
  },
  {
   "cell_type": "code",
   "execution_count": 19,
   "id": "1bc19b8c-1b5b-4fbc-913f-14074a4e2004",
   "metadata": {},
   "outputs": [
    {
     "name": "stdout",
     "output_type": "stream",
     "text": [
      "1\n",
      "Accuracy: 82.22%\n",
      "Confusion Matrix:\n",
      "[[13  6]\n",
      " [ 2 24]]\n"
     ]
    }
   ],
   "source": [
    "from sklearn.linear_model import PassiveAggressiveClassifier\n",
    "from sklearn.metrics import accuracy_score, confusion_matrix\n",
    "\n",
    "# Load the dataset\n",
    "data = pd.read_csv('news.csv')\n",
    "\n",
    "# Define features and labels\n",
    "X = data['text']\n",
    "y = data['label']\n",
    "\n",
    "# Check for missing values in the labels\n",
    "print(y.isnull().sum())\n",
    "\n",
    "# Remove rows with missing labels\n",
    "data = data.dropna(subset=['label'])\n",
    "\n",
    "# Redefine features and labels after removing missing values\n",
    "X = data['text']\n",
    "y = data['label']\n",
    "\n",
    "# Split the dataset into training and testing sets\n",
    "X_train, X_test, y_train, y_test = train_test_split(X, y, test_size=0.2, random_state=42)\n",
    "\n",
    "# Initialize TfidfVectorizer\n",
    "tfidf_vectorizer = TfidfVectorizer(stop_words='english', max_df=0.7)\n",
    "\n",
    "# Fit and transform the training data\n",
    "tfidf_train = tfidf_vectorizer.fit_transform(X_train)\n",
    "\n",
    "# Transform the testing data\n",
    "tfidf_test = tfidf_vectorizer.transform(X_test)\n",
    "\n",
    "# Initialize PassiveAggressiveClassifier\n",
    "pac = PassiveAggressiveClassifier(max_iter=50)\n",
    "\n",
    "# Fit the model\n",
    "pac.fit(tfidf_train, y_train)\n",
    "\n",
    "# Predict on the test set\n",
    "y_pred = pac.predict(tfidf_test)\n",
    "\n",
    "# Evaluate the model\n",
    "score = accuracy_score(y_test, y_pred)\n",
    "print(f'Accuracy: {round(score*100, 2)}%')\n",
    "\n",
    "# Generate confusion matrix\n",
    "conf_matrix = confusion_matrix(y_test, y_pred)\n",
    "print('Confusion Matrix:')\n",
    "print(conf_matrix)\n"
   ]
  },
  {
   "cell_type": "code",
   "execution_count": 20,
   "id": "2e659106-7148-4426-a6e3-1fe9ddaba3e7",
   "metadata": {},
   "outputs": [
    {
     "name": "stdout",
     "output_type": "stream",
     "text": [
      "0\n"
     ]
    }
   ],
   "source": [
    "print(y.isnull().sum())\n"
   ]
  },
  {
   "cell_type": "code",
   "execution_count": 21,
   "id": "ebca412f-2bfa-4966-b119-a00c1c33410c",
   "metadata": {},
   "outputs": [],
   "source": [
    "data = data.dropna(subset=['label'])\n"
   ]
  },
  {
   "cell_type": "code",
   "execution_count": 22,
   "id": "38577794-a3d7-4df9-ac00-42f24fde96e3",
   "metadata": {},
   "outputs": [],
   "source": [
    "data = data.dropna(subset=['label'])\n"
   ]
  },
  {
   "cell_type": "code",
   "execution_count": 23,
   "id": "985fee45-906c-4e0e-bf19-82ea0e341405",
   "metadata": {},
   "outputs": [],
   "source": [
    "data = data.dropna(subset=['label'])\n"
   ]
  },
  {
   "cell_type": "code",
   "execution_count": 24,
   "id": "ad3c6dd6-00bd-4f76-8a24-dd4c877994b2",
   "metadata": {},
   "outputs": [],
   "source": [
    "data = data.dropna(subset=['label'])\n"
   ]
  },
  {
   "cell_type": "code",
   "execution_count": 25,
   "id": "b511fc44-4d88-427f-9362-5e663968310e",
   "metadata": {},
   "outputs": [],
   "source": [
    "data = data.dropna(subset=['label'])\n"
   ]
  },
  {
   "cell_type": "code",
   "execution_count": 26,
   "id": "881fe57c-34e1-470f-96c7-9518e8e21784",
   "metadata": {},
   "outputs": [],
   "source": [
    "data = data.dropna(subset=['label'])\n"
   ]
  },
  {
   "cell_type": "code",
   "execution_count": 27,
   "id": "67afab20-f17d-46d7-b7f2-cb1e9d705765",
   "metadata": {},
   "outputs": [],
   "source": [
    "data = data.dropna(subset=['label'])\n"
   ]
  },
  {
   "cell_type": "code",
   "execution_count": 28,
   "id": "ac3705dc-1fc0-4b2d-b7af-8ee5b1db7a72",
   "metadata": {},
   "outputs": [],
   "source": [
    "X_train, X_test, y_train, y_test = train_test_split(X, y, test_size=0.2, random_state=42)\n"
   ]
  },
  {
   "cell_type": "code",
   "execution_count": 29,
   "id": "48db634f-ccb2-4083-b77b-5dfd42730389",
   "metadata": {},
   "outputs": [],
   "source": [
    "tfidf_vectorizer = TfidfVectorizer(stop_words='english', max_df=0.7)\n",
    "tfidf_train = tfidf_vectorizer.fit_transform(X_train)\n",
    "tfidf_test = tfidf_vectorizer.transform(X_test)\n"
   ]
  },
  {
   "cell_type": "code",
   "execution_count": 30,
   "id": "b260c052-3f56-427d-a677-8e48c44aedd5",
   "metadata": {},
   "outputs": [
    {
     "data": {
      "text/html": [
       "<style>#sk-container-id-1 {color: black;background-color: white;}#sk-container-id-1 pre{padding: 0;}#sk-container-id-1 div.sk-toggleable {background-color: white;}#sk-container-id-1 label.sk-toggleable__label {cursor: pointer;display: block;width: 100%;margin-bottom: 0;padding: 0.3em;box-sizing: border-box;text-align: center;}#sk-container-id-1 label.sk-toggleable__label-arrow:before {content: \"▸\";float: left;margin-right: 0.25em;color: #696969;}#sk-container-id-1 label.sk-toggleable__label-arrow:hover:before {color: black;}#sk-container-id-1 div.sk-estimator:hover label.sk-toggleable__label-arrow:before {color: black;}#sk-container-id-1 div.sk-toggleable__content {max-height: 0;max-width: 0;overflow: hidden;text-align: left;background-color: #f0f8ff;}#sk-container-id-1 div.sk-toggleable__content pre {margin: 0.2em;color: black;border-radius: 0.25em;background-color: #f0f8ff;}#sk-container-id-1 input.sk-toggleable__control:checked~div.sk-toggleable__content {max-height: 200px;max-width: 100%;overflow: auto;}#sk-container-id-1 input.sk-toggleable__control:checked~label.sk-toggleable__label-arrow:before {content: \"▾\";}#sk-container-id-1 div.sk-estimator input.sk-toggleable__control:checked~label.sk-toggleable__label {background-color: #d4ebff;}#sk-container-id-1 div.sk-label input.sk-toggleable__control:checked~label.sk-toggleable__label {background-color: #d4ebff;}#sk-container-id-1 input.sk-hidden--visually {border: 0;clip: rect(1px 1px 1px 1px);clip: rect(1px, 1px, 1px, 1px);height: 1px;margin: -1px;overflow: hidden;padding: 0;position: absolute;width: 1px;}#sk-container-id-1 div.sk-estimator {font-family: monospace;background-color: #f0f8ff;border: 1px dotted black;border-radius: 0.25em;box-sizing: border-box;margin-bottom: 0.5em;}#sk-container-id-1 div.sk-estimator:hover {background-color: #d4ebff;}#sk-container-id-1 div.sk-parallel-item::after {content: \"\";width: 100%;border-bottom: 1px solid gray;flex-grow: 1;}#sk-container-id-1 div.sk-label:hover label.sk-toggleable__label {background-color: #d4ebff;}#sk-container-id-1 div.sk-serial::before {content: \"\";position: absolute;border-left: 1px solid gray;box-sizing: border-box;top: 0;bottom: 0;left: 50%;z-index: 0;}#sk-container-id-1 div.sk-serial {display: flex;flex-direction: column;align-items: center;background-color: white;padding-right: 0.2em;padding-left: 0.2em;position: relative;}#sk-container-id-1 div.sk-item {position: relative;z-index: 1;}#sk-container-id-1 div.sk-parallel {display: flex;align-items: stretch;justify-content: center;background-color: white;position: relative;}#sk-container-id-1 div.sk-item::before, #sk-container-id-1 div.sk-parallel-item::before {content: \"\";position: absolute;border-left: 1px solid gray;box-sizing: border-box;top: 0;bottom: 0;left: 50%;z-index: -1;}#sk-container-id-1 div.sk-parallel-item {display: flex;flex-direction: column;z-index: 1;position: relative;background-color: white;}#sk-container-id-1 div.sk-parallel-item:first-child::after {align-self: flex-end;width: 50%;}#sk-container-id-1 div.sk-parallel-item:last-child::after {align-self: flex-start;width: 50%;}#sk-container-id-1 div.sk-parallel-item:only-child::after {width: 0;}#sk-container-id-1 div.sk-dashed-wrapped {border: 1px dashed gray;margin: 0 0.4em 0.5em 0.4em;box-sizing: border-box;padding-bottom: 0.4em;background-color: white;}#sk-container-id-1 div.sk-label label {font-family: monospace;font-weight: bold;display: inline-block;line-height: 1.2em;}#sk-container-id-1 div.sk-label-container {text-align: center;}#sk-container-id-1 div.sk-container {/* jupyter's `normalize.less` sets `[hidden] { display: none; }` but bootstrap.min.css set `[hidden] { display: none !important; }` so we also need the `!important` here to be able to override the default hidden behavior on the sphinx rendered scikit-learn.org. See: https://github.com/scikit-learn/scikit-learn/issues/21755 */display: inline-block !important;position: relative;}#sk-container-id-1 div.sk-text-repr-fallback {display: none;}</style><div id=\"sk-container-id-1\" class=\"sk-top-container\"><div class=\"sk-text-repr-fallback\"><pre>PassiveAggressiveClassifier(max_iter=50)</pre><b>In a Jupyter environment, please rerun this cell to show the HTML representation or trust the notebook. <br />On GitHub, the HTML representation is unable to render, please try loading this page with nbviewer.org.</b></div><div class=\"sk-container\" hidden><div class=\"sk-item\"><div class=\"sk-estimator sk-toggleable\"><input class=\"sk-toggleable__control sk-hidden--visually\" id=\"sk-estimator-id-1\" type=\"checkbox\" checked><label for=\"sk-estimator-id-1\" class=\"sk-toggleable__label sk-toggleable__label-arrow\">PassiveAggressiveClassifier</label><div class=\"sk-toggleable__content\"><pre>PassiveAggressiveClassifier(max_iter=50)</pre></div></div></div></div></div>"
      ],
      "text/plain": [
       "PassiveAggressiveClassifier(max_iter=50)"
      ]
     },
     "execution_count": 30,
     "metadata": {},
     "output_type": "execute_result"
    }
   ],
   "source": [
    "pac = PassiveAggressiveClassifier(max_iter=50)\n",
    "pac.fit(tfidf_train, y_train)\n"
   ]
  },
  {
   "cell_type": "code",
   "execution_count": 31,
   "id": "27e422ed-b320-4176-b7ba-6cf4ea9d7b72",
   "metadata": {},
   "outputs": [
    {
     "name": "stdout",
     "output_type": "stream",
     "text": [
      "Accuracy: 82.22%\n",
      "Confusion Matrix:\n",
      "[[13  6]\n",
      " [ 2 24]]\n"
     ]
    }
   ],
   "source": [
    "y_pred = pac.predict(tfidf_test)\n",
    "score = accuracy_score(y_test, y_pred)\n",
    "print(f'Accuracy: {round(score*100, 2)}%')\n",
    "conf_matrix = confusion_matrix(y_test, y_pred)\n",
    "print('Confusion Matrix:')\n",
    "print(conf_matrix)\n"
   ]
  },
  {
   "cell_type": "markdown",
   "id": "1602b10a-ba7e-4274-8f97-a72d0ae8c935",
   "metadata": {},
   "source": [
    "## Confusion matrix"
   ]
  },
  {
   "cell_type": "code",
   "execution_count": 32,
   "id": "dbd9c9c0-92c1-44b8-9cba-6df146c0665c",
   "metadata": {},
   "outputs": [
    {
     "data": {
      "text/plain": [
       "array([[13,  6],\n",
       "       [ 2, 24]], dtype=int64)"
      ]
     },
     "execution_count": 32,
     "metadata": {},
     "output_type": "execute_result"
    }
   ],
   "source": [
    "matrix= confusion_matrix(y_test,y_pred, labels=['FAKE','REAL'])\n",
    "matrix"
   ]
  },
  {
   "cell_type": "markdown",
   "id": "b18029c2-ee87-4548-b9a8-52e918ffae2c",
   "metadata": {},
   "source": [
    "## Visualize the confusion matrix"
   ]
  },
  {
   "cell_type": "code",
   "execution_count": 20,
   "id": "2f7a2456-99e9-4d08-b662-ca1909616177",
   "metadata": {},
   "outputs": [
    {
     "data": {
      "image/png": "[encoded data removed]",
      "text/plain": [
       "<Figure size 640x480 with 2 Axes>"
      ]
     },
     "metadata": {},
     "output_type": "display_data"
    }
   ],
   "source": [
    "#Visualize the confusion matrix\n",
    "sns.heatmap(matrix, annot=True)\n",
    "plt.show()"
   ]
  },
  {
   "cell_type": "markdown",
   "id": "d7f4dc08-68e4-4b58-ad0f-3866550054f5",
   "metadata": {},
   "source": [
    "## Calculate the model's accuracy"
   ]
  },
  {
   "cell_type": "code",
   "execution_count": 33,
   "id": "ac211c0b-41ed-436f-b6e1-b52ccc065826",
   "metadata": {},
   "outputs": [
    {
     "data": {
      "text/plain": [
       "82.22222222222221"
      ]
     },
     "execution_count": 33,
     "metadata": {},
     "output_type": "execute_result"
    }
   ],
   "source": [
    "Accuracy=accuracy_score(y_test,y_pred)\n",
    "Accuracy*100"
   ]
  },
  {
   "cell_type": "markdown",
   "id": "c1facf76-035e-4b0e-a1bb-5cc857a0d68f",
   "metadata": {},
   "source": [
    "# The model's Accuracy is 80%\n"
   ]
  },
  {
   "cell_type": "code",
   "execution_count": 34,
   "id": "117c0c8d-e3eb-49db-927c-cdf5895fbd49",
   "metadata": {},
   "outputs": [
    {
     "name": "stdout",
     "output_type": "stream",
     "text": [
      "              precision    recall  f1-score   support\n",
      "\n",
      "        FAKE       0.87      0.68      0.76        19\n",
      "        REAL       0.80      0.92      0.86        26\n",
      "\n",
      "    accuracy                           0.82        45\n",
      "   macro avg       0.83      0.80      0.81        45\n",
      "weighted avg       0.83      0.82      0.82        45\n",
      "\n"
     ]
    }
   ],
   "source": [
    "Report= classification_report(y_test, y_pred)\n",
    "print(Report)"
   ]
  },
  {
   "cell_type": "code",
   "execution_count": null,
   "id": "a7003b5e-ebfd-4365-b5c6-0f2ff4eead54",
   "metadata": {},
   "outputs": [],
   "source": []
  }
 ],
 "metadata": {
  "kernelspec": {
   "display_name": "Python 3 (ipykernel)",
   "language": "python",
   "name": "python3"
  },
  "language_info": {
   "codemirror_mode": {
    "name": "ipython",
    "version": 3
   },
   "file_extension": ".py",
   "mimetype": "text/x-python",
   "name": "python",
   "nbconvert_exporter": "python",
   "pygments_lexer": "ipython3",
   "version": "3.11.7"
  }
 },
 "nbformat": 4,
 "nbformat_minor": 5
}
